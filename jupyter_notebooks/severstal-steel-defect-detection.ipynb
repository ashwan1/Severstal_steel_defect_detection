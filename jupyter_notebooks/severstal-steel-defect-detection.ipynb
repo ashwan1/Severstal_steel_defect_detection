{
 "cells": [
  {
   "cell_type": "code",
   "execution_count": null,
   "metadata": {},
   "outputs": [],
   "source": [
    "import os\n",
    "import random\n",
    "import json\n",
    "import numpy as np\n",
    "import pandas as pd\n",
    "import matplotlib.pyplot as plt\n",
    "import cv2\n",
    "from sklearn.model_selection import train_test_split\n",
    "from keras.utils import Sequence\n",
    "import segmentation_models as sm\n",
    "import tensorflow as tf\n",
    "from keras import optimizers, models, callbacks"
   ]
  },
  {
   "cell_type": "code",
   "execution_count": null,
   "metadata": {},
   "outputs": [],
   "source": [
    "%matplotlib inline\n",
    "os.environ[\"CUDA_VISIBLE_DEVICES\"] = \"2\"\n",
    "os.environ[\"TF_FORCE_GPU_ALLOW_GROWTH\"] = \"true\"\n",
    "plt.rcParams['figure.figsize'] = [12, 10]\n",
    "\n",
    "_SEED = 42\n",
    "random.seed(_SEED)\n",
    "np.random.seed(_SEED)\n",
    "# tf.compat.v1.random.set_random_seed(_SEED)"
   ]
  },
  {
   "cell_type": "code",
   "execution_count": null,
   "metadata": {},
   "outputs": [],
   "source": [
    "data = pd.read_csv('../data/train.csv')\n",
    "data.head()"
   ]
  },
  {
   "cell_type": "code",
   "execution_count": null,
   "metadata": {},
   "outputs": [],
   "source": [
    "# Separate imageid\n",
    "data['image_id'] = data.ImageId_ClassId.apply(lambda x: x.split('_')[0])\n",
    "data['class_id'] = data.ImageId_ClassId.apply(lambda x: x.split('_')[1])\n",
    "data.drop('ImageId_ClassId', axis=1, inplace=True)\n",
    "data.head()"
   ]
  },
  {
   "cell_type": "code",
   "execution_count": null,
   "metadata": {},
   "outputs": [],
   "source": [
    "train_df = pd.DataFrame({\n",
    "    'image_id': data['image_id'][::4]\n",
    "})\n",
    "train_df['defect_1'] = data.EncodedPixels[::4].values\n",
    "train_df['defect_2'] = data.EncodedPixels[1::4].values\n",
    "train_df['defect_3'] = data.EncodedPixels[2::4].values\n",
    "train_df['defect_4'] = data.EncodedPixels[3::4].values\n",
    "train_df['defect_count'] = train_df[train_df.columns[1:]].count(axis=1)\n",
    "train_df.reset_index(inplace=True, drop=True)\n",
    "train_df.fillna('', inplace=True)\n",
    "print(train_df.info())\n",
    "train_df.head(10)"
   ]
  },
  {
   "cell_type": "code",
   "execution_count": null,
   "metadata": {},
   "outputs": [],
   "source": [
    "# Utility functions for RL encoding/decoding\n",
    "def mask2rle(img):\n",
    "    '''\n",
    "    img: numpy array, 1 - mask, 0 - background\n",
    "    Returns run length as string formated\n",
    "    '''\n",
    "    pixels= img.T.flatten()\n",
    "    pixels = np.concatenate([[0], pixels, [0]])\n",
    "    runs = np.where(pixels[1:] != pixels[:-1])[0] + 1\n",
    "    runs[1::2] -= runs[::2]\n",
    "    return ' '.join(str(x) for x in runs)\n",
    " \n",
    "def rle2mask(mask_rle, shape=(1600,256)):\n",
    "    '''\n",
    "    mask_rle: run-length as string formated (start length)\n",
    "    shape: (width,height) of array to return \n",
    "    Returns numpy array, 1 - mask, 0 - background\n",
    "\n",
    "    '''\n",
    "    s = mask_rle.split()\n",
    "    starts, lengths = [np.asarray(x, dtype=int) for x in (s[0:][::2], s[1:][::2])]\n",
    "    starts -= 1\n",
    "    ends = starts + lengths\n",
    "    img = np.zeros(shape[0]*shape[1], dtype=np.uint8)\n",
    "    for lo, hi in zip(starts, ends):\n",
    "        img[lo:hi] = 1\n",
    "    return img.reshape(shape).T"
   ]
  },
  {
   "cell_type": "code",
   "execution_count": null,
   "metadata": {},
   "outputs": [],
   "source": [
    "class DataSequence(Sequence):\n",
    "    def __init__(self, df, batch_size, img_size,\n",
    "                 base_path='../data/train_images',\n",
    "                 train=True, n_classes=4, n_channels=3,\n",
    "                 shuffle=False, augment=False):\n",
    "        self.df = df\n",
    "        self.batch_size = batch_size\n",
    "        self.height, self.width = img_size\n",
    "        self.base_path = base_path\n",
    "        self.train = train\n",
    "        self.n_classes = n_classes\n",
    "        self.n_channels = n_channels\n",
    "        self.shuffle = shuffle\n",
    "        self.augment = augment\n",
    "    \n",
    "    def __len__(self):\n",
    "        return int(np.ceil(len(self.df.index) / float(self.batch_size)))\n",
    "    \n",
    "    def __getitem__(self, idx):\n",
    "        flip_direction = None\n",
    "        batch = self.df[idx*self.batch_size: (idx+1)*self.batch_size].reset_index(drop=True)\n",
    "        images = np.zeros((len(batch.index), self.height, self.width, self.n_channels))\n",
    "        if self.train:\n",
    "            masks = np.zeros((len(batch.index), self.height, self.width, self.n_classes), dtype='int')\n",
    "        for row in batch.itertuples():\n",
    "            image = cv2.imread(f'{self.base_path}/{row.image_id}')\n",
    "            assert image.shape == (self.height, self.width, self.n_channels), f'Image shape not as expected, got {image.shape}, expected {(self.height, self.width, self.n_channels)}'\n",
    "            image = cv2.cvtColor(image, cv2.COLOR_BGR2RGB)\n",
    "            if self.augment:\n",
    "                if random.random() > 0.5:\n",
    "                    flip_direction = random.choice([-1, 0, 1])\n",
    "                image = self.augment_image(image, row.defect_count, flip_direction=flip_direction)\n",
    "            images[row.Index] = image / 255.\n",
    "            if self.train:\n",
    "                rles = row[2:-1]\n",
    "                mask = self.build_mask(rles, flip_direction)\n",
    "                masks[row.Index] = mask\n",
    "        if self.train:\n",
    "            return images, masks\n",
    "        else:\n",
    "            return images\n",
    "    \n",
    "    def on_epoch_end(self):\n",
    "        if self.shuffle:\n",
    "            self.df = self.df.sample(frac=1, random_state=_SEED).reset_index(drop=True)\n",
    "    \n",
    "    def illuminate(self, image):\n",
    "        illumination = np.zeros((self.height, self.width), np.float32)\n",
    "        cv2.circle(illumination, (random.choice(range(0, self.width)), random.choice(range(0, self.height))), random.choice(range(10, 150)), 1, -1, lineType=cv2.LINE_AA)\n",
    "        illumination = cv2.GaussianBlur(illumination,(257,257),0)\n",
    "        illumination = illumination.reshape(self.height, self.width, 1)\n",
    "        image = image.astype(np.float32)/255\n",
    "        image = image*(1+illumination*1.05)\n",
    "        image = np.clip(image*255,0,255).astype(np.uint8)\n",
    "        return image\n",
    "    \n",
    "    def augment_image(self, image, defect_count, flip_direction=None):\n",
    "        if flip_direction is not None:\n",
    "            image = cv2.flip(image, flip_direction)\n",
    "        if random.random() > 0.5:\n",
    "            alpha = random.uniform(1.0, 2.0) # Simple contrast control\n",
    "            image = cv2.convertScaleAbs(image, alpha=alpha, beta=0)\n",
    "        elif random.random() > 0.6:\n",
    "            beta = random.randint(10, 61)    # Simple brightness control\n",
    "            image = cv2.convertScaleAbs(image, alpha=1, beta=beta)\n",
    "        if defect_count == 0 and False:\n",
    "            if random.random() > 0.5:\n",
    "                image = self.illuminate(image)\n",
    "            if random.random() > 0.5:\n",
    "                crop_hw = [random.choice(range(10, self.height//10)), random.choice(range(10, self.width//10))]\n",
    "                image = image[crop_hw[0]:-crop_hw[0], crop_hw[1]:-crop_hw[1], :]\n",
    "                image = cv2.resize(image, (self.width, self.height))\n",
    "            if random.random() > 0.5:\n",
    "                transformation_matrix = np.float32([[1,0,random.choice(range(-self.width//4, self.width//4))],[0,1,random.choice(range(-self.height//10, self.height//10))]])\n",
    "                image = cv2.warpAffine(image, transformation_matrix, (self.width, self.height))\n",
    "        return image\n",
    "    \n",
    "    def build_mask(self, rles, flip_direction=None):\n",
    "        assert self.n_classes == len(rles), 'length of rles should be same as number of classes'\n",
    "        mask = np.zeros((self.height, self.width, self.n_classes), dtype='int')\n",
    "        for i, rle in enumerate(rles):\n",
    "            if type(rle) is str:\n",
    "                m = rle2mask(rle, (self.width, self.height))\n",
    "                if flip_direction is not None:\n",
    "                    mask[:, :, i] = cv2.flip(m, flip_direction)\n",
    "                else:\n",
    "                    mask[:, :, i] = m\n",
    "        return mask"
   ]
  },
  {
   "cell_type": "code",
   "execution_count": null,
   "metadata": {},
   "outputs": [],
   "source": [
    "def plot_image_with_mask(image, mask, title):\n",
    "    img = image.copy()\n",
    "    img[mask==1, 0] = 255\n",
    "    plt.imshow(img)\n",
    "    plt.title(title)\n",
    "    plt.show()"
   ]
  },
  {
   "cell_type": "code",
   "execution_count": null,
   "metadata": {},
   "outputs": [],
   "source": [
    "for x, y in DataSequence(train_df, 5, (256, 1600)):\n",
    "    print(x.shape, y.shape)\n",
    "    print(x.max(), x.min(), y.max(), y.min())\n",
    "    for k in range(0, x.shape[0]):\n",
    "        for i in range(0, y.shape[-1]):\n",
    "            plot_image_with_mask(x[k], y[k][:,:,i], f'image {k}, defect {i}')\n",
    "    break"
   ]
  },
  {
   "cell_type": "code",
   "execution_count": null,
   "metadata": {},
   "outputs": [],
   "source": [
    "for x, y in DataSequence(train_df, 5, (256, 1600), augment=True):\n",
    "    print(x.shape, y.shape)\n",
    "    print(x.max(), x.min(), y.max(), y.min())\n",
    "    for k in range(0, x.shape[0]):\n",
    "        for i in range(0, y.shape[-1]):\n",
    "            plot_image_with_mask(x[k], y[k][:,:,i], f'image {k}, defect {i}')\n",
    "    break"
   ]
  },
  {
   "cell_type": "code",
   "execution_count": null,
   "metadata": {},
   "outputs": [],
   "source": [
    "train_df, val_df = train_test_split(train_df, test_size=0.2, random_state=_SEED)\n",
    "len(train_df.index), len(val_df.index)"
   ]
  },
  {
   "cell_type": "code",
   "execution_count": null,
   "metadata": {},
   "outputs": [],
   "source": [
    "BACKBONE = 'resnet18'\n",
    "BATCH_SIZE = 6\n",
    "LR = 0.0001\n",
    "CLASS_WEIGHTS = np.asarray([1.825, 1.952, 1, 1.844])"
   ]
  },
  {
   "cell_type": "code",
   "execution_count": null,
   "metadata": {},
   "outputs": [],
   "source": [
    "train_seq = DataSequence(train_df, BATCH_SIZE, (256, 1600), shuffle=True, augment=True)\n",
    "val_seq = DataSequence(val_df, BATCH_SIZE, (256, 1600), shuffle=False, augment=False)"
   ]
  },
  {
   "cell_type": "code",
   "execution_count": null,
   "metadata": {},
   "outputs": [],
   "source": [
    "model = sm.Unet(BACKBONE, input_shape=(256, 1600, 3), classes=4, activation='sigmoid', encoder_weights='imagenet')"
   ]
  },
  {
   "cell_type": "code",
   "execution_count": null,
   "metadata": {},
   "outputs": [],
   "source": [
    "model.compile(optimizers.Adam(lr=LR),\n",
    "              sm.losses.bce_dice_loss,\n",
    "              [sm.metrics.iou_score, sm.metrics.f1_score])"
   ]
  },
  {
   "cell_type": "code",
   "execution_count": null,
   "metadata": {},
   "outputs": [],
   "source": [
    "reduce_lr = callbacks.ReduceLROnPlateau(patience=3, verbose=1)\n",
    "early_stop = callbacks.EarlyStopping(patience=5, verbose=1, restore_best_weights=True)\n",
    "ckpt = callbacks.ModelCheckpoint('models/weights-{epoch:04d}-{val_loss:.4f}.hdf5', verbose=1, save_best_only=True, save_weights_only=True)\n",
    "training_callbacks = [reduce_lr, ckpt, early_stop]"
   ]
  },
  {
   "cell_type": "code",
   "execution_count": null,
   "metadata": {},
   "outputs": [],
   "source": [
    "history = model.fit(train_seq, epochs=100, verbose=1, callbacks=training_callbacks, validation_data=val_seq, max_queue_size=4, workers=2, use_multiprocessing=True)"
   ]
  },
  {
   "cell_type": "code",
   "execution_count": null,
   "metadata": {},
   "outputs": [],
   "source": [
    "model.save('models/final_model.hdf5')"
   ]
  },
  {
   "cell_type": "code",
   "execution_count": null,
   "metadata": {},
   "outputs": [],
   "source": [
    "with open('history.json', 'w') as f:\n",
    "    json.dump(str(history.history), f)\n",
    "\n",
    "history_df = pd.DataFrame(history.history)\n",
    "history_df[['loss', 'val_loss']].plot()\n",
    "history_df[['iou_score', 'val_iou_score']].plot()\n",
    "history_df[['score', 'val_score']].plot()"
   ]
  }
 ],
 "metadata": {
  "kernelspec": {
   "display_name": "Python 3",
   "language": "python",
   "name": "python3"
  },
  "language_info": {
   "codemirror_mode": {
    "name": "ipython",
    "version": 3
   },
   "file_extension": ".py",
   "mimetype": "text/x-python",
   "name": "python",
   "nbconvert_exporter": "python",
   "pygments_lexer": "ipython3",
   "version": "3.6.9"
  }
 },
 "nbformat": 4,
 "nbformat_minor": 4
}
